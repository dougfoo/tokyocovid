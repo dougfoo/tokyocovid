{
 "cells": [
  {
   "cell_type": "code",
   "execution_count": 9,
   "metadata": {},
   "outputs": [],
   "source": [
    "import json\n",
    "import os\n",
    "import matplotlib.pyplot as plt\n",
    "import pandas as pd\n",
    "import datetime\n",
    "import io\n",
    "\n",
    "DAILY_TREND_JSON = 'data/dailyTrend.json'\n",
    "\n"
   ]
  },
  {
   "cell_type": "code",
   "execution_count": 10,
   "metadata": {},
   "outputs": [
    {
     "name": "stdout",
     "output_type": "stream",
     "text": [
      "foo\n"
     ]
    },
    {
     "data": {
      "text/html": [
       "<div>\n",
       "<style scoped>\n",
       "    .dataframe tbody tr th:only-of-type {\n",
       "        vertical-align: middle;\n",
       "    }\n",
       "\n",
       "    .dataframe tbody tr th {\n",
       "        vertical-align: top;\n",
       "    }\n",
       "\n",
       "    .dataframe thead th {\n",
       "        text-align: right;\n",
       "    }\n",
       "</style>\n",
       "<table border=\"1\" class=\"dataframe\">\n",
       "  <thead>\n",
       "    <tr style=\"text-align: right;\">\n",
       "      <th></th>\n",
       "      <th>name</th>\n",
       "      <th>Tokyo</th>\n",
       "      <th>7dayAvg</th>\n",
       "      <th>datet</th>\n",
       "      <th>dow</th>\n",
       "    </tr>\n",
       "  </thead>\n",
       "  <tbody>\n",
       "    <tr>\n",
       "      <th>315</th>\n",
       "      <td>2020-12-30</td>\n",
       "      <td>944</td>\n",
       "      <td>815.714286</td>\n",
       "      <td>2020-12-30</td>\n",
       "      <td>Wednesday</td>\n",
       "    </tr>\n",
       "    <tr>\n",
       "      <th>316</th>\n",
       "      <td>2020-12-31</td>\n",
       "      <td>1337</td>\n",
       "      <td>879.857143</td>\n",
       "      <td>2020-12-31</td>\n",
       "      <td>Thursday</td>\n",
       "    </tr>\n",
       "    <tr>\n",
       "      <th>317</th>\n",
       "      <td>2021-01-01</td>\n",
       "      <td>783</td>\n",
       "      <td>865.428571</td>\n",
       "      <td>2021-01-01</td>\n",
       "      <td>Friday</td>\n",
       "    </tr>\n",
       "    <tr>\n",
       "      <th>318</th>\n",
       "      <td>2021-01-02</td>\n",
       "      <td>814</td>\n",
       "      <td>846.142857</td>\n",
       "      <td>2021-01-02</td>\n",
       "      <td>Saturday</td>\n",
       "    </tr>\n",
       "    <tr>\n",
       "      <th>319</th>\n",
       "      <td>2021-01-03</td>\n",
       "      <td>816</td>\n",
       "      <td>861.571429</td>\n",
       "      <td>2021-01-03</td>\n",
       "      <td>Sunday</td>\n",
       "    </tr>\n",
       "  </tbody>\n",
       "</table>\n",
       "</div>"
      ],
      "text/plain": [
       "           name  Tokyo     7dayAvg      datet        dow\n",
       "315  2020-12-30    944  815.714286 2020-12-30  Wednesday\n",
       "316  2020-12-31   1337  879.857143 2020-12-31   Thursday\n",
       "317  2021-01-01    783  865.428571 2021-01-01     Friday\n",
       "318  2021-01-02    814  846.142857 2021-01-02   Saturday\n",
       "319  2021-01-03    816  861.571429 2021-01-03     Sunday"
      ]
     },
     "execution_count": 10,
     "metadata": {},
     "output_type": "execute_result"
    }
   ],
   "source": [
    "print('foo')\n",
    "\n",
    "df = pd.read_json(DAILY_TREND_JSON)\n",
    "df['datet'] = df['name'].apply(lambda x: datetime.datetime.strptime(x,'%Y-%m-%d'))\n",
    "df['dow'] = df['datet'].apply(lambda x: x.strftime('%A'))\n",
    "\n",
    "df.tail()"
   ]
  },
  {
   "cell_type": "code",
   "execution_count": 11,
   "metadata": {},
   "outputs": [],
   "source": [
    "import requests\n",
    "import io\n",
    "\n",
    "s = io.StringIO(requests.get('https://www8.cao.go.jp/chosei/shukujitsu/syukujitsu.csv').content.decode('Shift-JIS'))\n",
    "holidays = pd.read_csv(s)\n",
    "\n",
    "last50holidays = holidays.iloc[-50:,0:2]\n",
    "last50holidays = last50holidays.rename(columns={'国民の祝日・休日月日':'hdate'})\n",
    "last50holidays['datet'] = last50holidays['hdate'].apply(lambda x: datetime.datetime.strptime(x,'%Y/%m/%d'))\n"
   ]
  },
  {
   "cell_type": "code",
   "execution_count": 12,
   "metadata": {
    "scrolled": false
   },
   "outputs": [
    {
     "data": {
      "text/plain": [
       "Text(0.5,1,'Day of Week rank for last 180 as of 2021-01-04 16:59:49.941155')"
      ]
     },
     "execution_count": 12,
     "metadata": {},
     "output_type": "execute_result"
    },
    {
     "data": {
      "image/png": "[encoded data removed]",
      "text/plain": [
       "<matplotlib.figure.Figure at 0x7fcd1dd9f898>"
      ]
     },
     "metadata": {},
     "output_type": "display_data"
    }
   ],
   "source": [
    "df2 = pd.merge(df, last50holidays, on='datet', how='left')\n",
    "df2.loc[df2['hdate'].isnull() != True, 'dow'] = 'Holiday'\n",
    "df2_sorted = df2[['dow','Tokyo']].groupby('dow').median().sort_values(by='Tokyo', ascending=False)\n",
    "\n",
    "#df2 = df2[df2_sorted.index]\n",
    "#df2[['dow','Tokyo']].tail(180).groupby(by='dow').boxplot(figsize=(8,10), subplots=False, fontsize=8, rot=45)\n",
    "days = 180\n",
    "\n",
    "def boxplot_sorted(df, by, column):\n",
    "  df3 = pd.DataFrame({col:vals[column] for col, vals in df.groupby(by)})\n",
    "  meds = df3.median().sort_values(ascending=False)\n",
    "  df3[meds.index].boxplot(rot=45, figsize=(8,6))\n",
    "\n",
    "import datetime\n",
    "boxplot_sorted(df2.tail(days), by=[\"dow\"], column=\"Tokyo\")\n",
    "plt.title(f\"Day of Week rank for last {days} as of {datetime.datetime.now()}\")\n"
   ]
  },
  {
   "cell_type": "code",
   "execution_count": 13,
   "metadata": {},
   "outputs": [
    {
     "name": "stdout",
     "output_type": "stream",
     "text": [
      "max <built-in function max> on 2020-12-31 \n",
      "maxdows {'Friday': 884, 'Saturday': 949, 'Thursday': 1337, 'Sunday': 816, 'Tuesday': 856, 'Wednesday': 944, 'Monday': 481}\n"
     ]
    }
   ],
   "source": [
    "import io\n",
    "import json\n",
    "import datetime\n",
    "\n",
    "f = open('data/dailyTrend.json','r')\n",
    "contents = f.read()\n",
    "j = json.loads(contents)\n",
    "\n",
    "for l in j:\n",
    "    dstr = l['name']\n",
    "    d = datetime.datetime.strptime(dstr,'%Y-%m-%d')\n",
    "    l['dow'] = d.strftime('%A')\n",
    "\n",
    "maxtotal = 0\n",
    "maxdate = None\n",
    "maxdows = {}\n",
    "\n",
    "for l in j:\n",
    "    if l['Tokyo'] > maxtotal:\n",
    "        maxtotal = l['Tokyo']\n",
    "        maxdate = l['name']\n",
    "    dow = l['dow']\n",
    "    if (maxdows.get(dow) is None):\n",
    "        maxdows[dow] = l['Tokyo']\n",
    "    elif (l['Tokyo'] > maxdows[dow]):\n",
    "        maxdows[dow] = l['Tokyo']\n",
    "        \n",
    "print(f'max {max} on {maxdate} ')\n",
    "print(f'maxdows {maxdows}')\n",
    "\n",
    "\n",
    "    \n",
    "#df['datet'] = df['name'].apply(lambda x: datetime.datetime.strptime(x,'%Y-%m-%d'))\n",
    "#df['dow'] = df['datet'].apply(lambda x: \n",
    "\n"
   ]
  },
  {
   "cell_type": "code",
   "execution_count": null,
   "metadata": {},
   "outputs": [],
   "source": []
  }
 ],
 "metadata": {
  "kernelspec": {
   "display_name": "Python 3",
   "language": "python",
   "name": "python3"
  },
  "language_info": {
   "codemirror_mode": {
    "name": "ipython",
    "version": 3
   },
   "file_extension": ".py",
   "mimetype": "text/x-python",
   "name": "python",
   "nbconvert_exporter": "python",
   "pygments_lexer": "ipython3",
   "version": "3.6.4"
  }
 },
 "nbformat": 4,
 "nbformat_minor": 4
}
