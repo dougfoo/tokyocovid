{
 "cells": [
  {
   "cell_type": "markdown",
   "metadata": {},
   "source": [
    "# Tweety Test"
   ]
  },
  {
   "cell_type": "code",
   "execution_count": 1,
   "metadata": {},
   "outputs": [
    {
     "ename": "ModuleNotFoundError",
     "evalue": "No module named 'tweepy'",
     "output_type": "error",
     "traceback": [
      "\u001b[1;31m---------------------------------------------------------------------------\u001b[0m",
      "\u001b[1;31mModuleNotFoundError\u001b[0m                       Traceback (most recent call last)",
      "\u001b[1;32m<ipython-input-1-c4597ad018c4>\u001b[0m in \u001b[0;36m<module>\u001b[1;34m\u001b[0m\n\u001b[0;32m      1\u001b[0m \u001b[1;31m# welcome to twitter integration\u001b[0m\u001b[1;33m\u001b[0m\u001b[1;33m\u001b[0m\u001b[1;33m\u001b[0m\u001b[0m\n\u001b[0;32m      2\u001b[0m \u001b[1;33m\u001b[0m\u001b[0m\n\u001b[1;32m----> 3\u001b[1;33m \u001b[1;32mimport\u001b[0m \u001b[0mtweepy\u001b[0m\u001b[1;33m\u001b[0m\u001b[1;33m\u001b[0m\u001b[0m\n\u001b[0m\u001b[0;32m      4\u001b[0m \u001b[1;32mimport\u001b[0m \u001b[0mos\u001b[0m\u001b[1;33m\u001b[0m\u001b[1;33m\u001b[0m\u001b[0m\n\u001b[0;32m      5\u001b[0m \u001b[1;32mimport\u001b[0m \u001b[0mpandas\u001b[0m \u001b[1;32mas\u001b[0m \u001b[0mpd\u001b[0m\u001b[1;33m\u001b[0m\u001b[1;33m\u001b[0m\u001b[0m\n",
      "\u001b[1;31mModuleNotFoundError\u001b[0m: No module named 'tweepy'"
     ]
    }
   ],
   "source": [
    "# welcome to twitter integration\n",
    "\n",
    "import tweepy\n",
    "import os\n",
    "import pandas as pd\n",
    "#import matplotlib.pyplot as plt\n",
    "\n",
    "\n",
    "# api key TV4nWBzyrUKNwMNfflZ2o5QZb\n",
    "# api secret  N6ZecOdEvcTIZaSmKjA3dTmi6r9B1PHED57uXLdEIjQK7zar8N\n",
    "# bearer  AAAAAAAAAAAAAAAAAAAAANIuJgEAAAAAWDG4f9QM8AIRDFs867SZDoFnxP4%3DrsPjDhFNg9OtzQa3D6lzjuEdSWgK6xtT9bSlfaiLhAwddNUYVP\n",
    "# access token:  993833652717993984-rifAKfQNGO55iUwXTqmzqXqjGwcflO9\n",
    "# access secret:  Dey9EdGUQKBKiYYMmpiP8X8mtuRifhy6uKtUqtFUeRPg5\n",
    "\n",
    "CONSUMER_KEY = os.environ.get('CONSUMER_KEY')\n",
    "CONSUMER_SECRET = os.environ.get('CONSUMER_SECRET')\n",
    "ACCESS_KEY = os.environ.get('ACCESS_KEY')\n",
    "ACCESS_SECRET = os.environ.get('ACCESS_SECRET')\n",
    "\n",
    "TKCOVID_CASE_PREFIX =  \"data/tokyocovid\"\n",
    "\n",
    "tkdata = pd.read_csv(TKCOVID_CASE_PREFIX+'_latest.csv').to_csv(index=False)\n",
    "\n",
    "\n",
    "import io\n",
    "# tokyo = pd.read_csv(TKCOVID_CASE_PREFIX+'_latest.csv')\n",
    "# # call = pd.read_csv(TKCOVID_CALL_PREFIX+'_latest.csv')\n",
    "# japan = pd.read_csv(JAPANCOVID_CASE_PREFIX+'_latest.csv')\n",
    "tokyo = pd.read_csv(io.StringIO(tkdata)).rename(\t\n",
    "    columns={\t\n",
    "        '全国地方公共団体コード':'Code',\t\n",
    "        '都道府県名':'Prefecture',\t\n",
    "        '市区町村名':'Prefecture2',\t\n",
    "        '公表_年月日':'Date',\t\n",
    "        '曜日':'DoW',\t\n",
    "        '発症_年月日':'OnsetDate',\t\n",
    "        '患者_居住地':'Residence',\t\n",
    "        '患者_年代':'Age',\t\n",
    "        '患者_性別':'Gender',\t\n",
    "        '患者_属性':'Attribute',\t\n",
    "        '患者_状態':'Status',\t\n",
    "        '患者_症状':'Symptom',\t\n",
    "        '患者_渡航歴の有無フラグ':'TravelFlag',\t\n",
    "        '備考':'Remarks',\t\n",
    "        '退院済フラグ':'Discharged'\t\n",
    "    })\t\n",
    "\n",
    "# group by counts\t\n",
    "tokyoBase = tokyo[['Date','Gender','Age']]\t\n",
    "print(tokyo.tail())\t\n",
    "\n",
    "# tokyoBase = pd.get_dummies(tokyoBase, columns=[\"Gender\",\"Age\"])\t\n",
    "tokyoBase = tokyoBase.assign(ct=1)\n",
    "sumtokyo = tokyoBase.groupby('Date').agg('sum')\n",
    "# avg7d = sumtokyo.rolling(7).mean()\n",
    "# avg30d = sumtokyo.rolling(30).mean()\n",
    "today = sumtokyo.iloc[-1:-1]\n",
    "print(today, sumtokyo.tail())\t\n",
    "\n",
    "fig = sumtokyo.tail(14).plot(kind='bar',  figsize=(20, 16), fontsize=26).get_figure()\n",
    "\n",
    "fig.savefig('test.png')\n",
    "\n",
    "\n",
    "\n",
    "auth = tweepy.OAuthHandler(CONSUMER_KEY, CONSUMER_SECRET)\n",
    "auth.set_access_token(ACCESS_KEY, ACCESS_SECRET)\n",
    "api = tweepy.API(auth)\n",
    "\n",
    "# api.update_status(status='Foo foo foo tweet from API 2 2')\n",
    "\n",
    "# # Tweet with media (multiple images)\n",
    "# api.update_status(status='Test Tweet Update w/ media', media_ids='mediaIds?')\n",
    "\n",
    "# posting the tweet \n",
    "api.update_with_media('test.png', f'today: {today} last 2 weeks chart blah blah #tag #tagfoo #taggy') \n"
   ]
  }
 ],
 "metadata": {
  "kernelspec": {
   "display_name": "Python 3",
   "language": "python",
   "name": "python3"
  },
  "language_info": {
   "codemirror_mode": {
    "name": "ipython",
    "version": 3
   },
   "file_extension": ".py",
   "mimetype": "text/x-python",
   "name": "python",
   "nbconvert_exporter": "python",
   "pygments_lexer": "ipython3",
   "version": "3.8.3"
  }
 },
 "nbformat": 4,
 "nbformat_minor": 4
}
