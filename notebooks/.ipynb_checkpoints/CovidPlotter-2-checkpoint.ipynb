{
 "cells": [
  {
   "cell_type": "code",
   "execution_count": 1,
   "metadata": {},
   "outputs": [],
   "source": [
    "import json\n",
    "import os\n",
    "import matplotlib.pyplot as plt\n",
    "import pandas as pd\n",
    "import datetime\n",
    "import io\n",
    "\n",
    "DAILY_TREND_JSON = 'data/dailyTrend.json'\n",
    "\n"
   ]
  },
  {
   "cell_type": "code",
   "execution_count": 2,
   "metadata": {},
   "outputs": [
    {
     "name": "stdout",
     "output_type": "stream",
     "text": [
      "foo\n"
     ]
    },
    {
     "ename": "ModuleNotFoundError",
     "evalue": "No module named 'numpy.core._multiarray_umath'",
     "output_type": "error",
     "traceback": [
      "\u001b[0;31m---------------------------------------------------------------------------\u001b[0m",
      "\u001b[0;31mModuleNotFoundError\u001b[0m                       Traceback (most recent call last)",
      "\u001b[0;31mModuleNotFoundError\u001b[0m: No module named 'numpy.core._multiarray_umath'"
     ]
    },
    {
     "data": {
      "text/html": [
       "<div>\n",
       "<style scoped>\n",
       "    .dataframe tbody tr th:only-of-type {\n",
       "        vertical-align: middle;\n",
       "    }\n",
       "\n",
       "    .dataframe tbody tr th {\n",
       "        vertical-align: top;\n",
       "    }\n",
       "\n",
       "    .dataframe thead th {\n",
       "        text-align: right;\n",
       "    }\n",
       "</style>\n",
       "<table border=\"1\" class=\"dataframe\">\n",
       "  <thead>\n",
       "    <tr style=\"text-align: right;\">\n",
       "      <th></th>\n",
       "      <th>name</th>\n",
       "      <th>Tokyo</th>\n",
       "      <th>7dayAvg</th>\n",
       "      <th>datet</th>\n",
       "      <th>dow</th>\n",
       "    </tr>\n",
       "  </thead>\n",
       "  <tbody>\n",
       "    <tr>\n",
       "      <th>298</th>\n",
       "      <td>2020-12-13</td>\n",
       "      <td>480</td>\n",
       "      <td>503.000000</td>\n",
       "      <td>2020-12-13</td>\n",
       "      <td>Sunday</td>\n",
       "    </tr>\n",
       "    <tr>\n",
       "      <th>299</th>\n",
       "      <td>2020-12-14</td>\n",
       "      <td>305</td>\n",
       "      <td>503.857143</td>\n",
       "      <td>2020-12-14</td>\n",
       "      <td>Monday</td>\n",
       "    </tr>\n",
       "    <tr>\n",
       "      <th>300</th>\n",
       "      <td>2020-12-15</td>\n",
       "      <td>460</td>\n",
       "      <td>519.285714</td>\n",
       "      <td>2020-12-15</td>\n",
       "      <td>Tuesday</td>\n",
       "    </tr>\n",
       "    <tr>\n",
       "      <th>301</th>\n",
       "      <td>2020-12-16</td>\n",
       "      <td>678</td>\n",
       "      <td>534.428571</td>\n",
       "      <td>2020-12-16</td>\n",
       "      <td>Wednesday</td>\n",
       "    </tr>\n",
       "    <tr>\n",
       "      <th>302</th>\n",
       "      <td>2020-12-17</td>\n",
       "      <td>822</td>\n",
       "      <td>565.857143</td>\n",
       "      <td>2020-12-17</td>\n",
       "      <td>Thursday</td>\n",
       "    </tr>\n",
       "  </tbody>\n",
       "</table>\n",
       "</div>"
      ],
      "text/plain": [
       "           name  Tokyo     7dayAvg      datet        dow\n",
       "298  2020-12-13    480  503.000000 2020-12-13     Sunday\n",
       "299  2020-12-14    305  503.857143 2020-12-14     Monday\n",
       "300  2020-12-15    460  519.285714 2020-12-15    Tuesday\n",
       "301  2020-12-16    678  534.428571 2020-12-16  Wednesday\n",
       "302  2020-12-17    822  565.857143 2020-12-17   Thursday"
      ]
     },
     "execution_count": 2,
     "metadata": {},
     "output_type": "execute_result"
    }
   ],
   "source": [
    "print('foo')\n",
    "\n",
    "df = pd.read_json(DAILY_TREND_JSON)\n",
    "df['datet'] = df['name'].apply(lambda x: datetime.datetime.strptime(x,'%Y-%m-%d'))\n",
    "df['dow'] = df['datet'].apply(lambda x: x.strftime('%A'))\n",
    "\n",
    "df.tail()"
   ]
  },
  {
   "cell_type": "code",
   "execution_count": 3,
   "metadata": {},
   "outputs": [],
   "source": [
    "import requests\n",
    "import io\n",
    "\n",
    "s = io.StringIO(requests.get('https://www8.cao.go.jp/chosei/shukujitsu/syukujitsu.csv').content.decode('Shift-JIS'))\n",
    "holidays = pd.read_csv(s)\n",
    "\n",
    "last50holidays = holidays.iloc[-50:,0:2]\n",
    "last50holidays = last50holidays.rename(columns={'国民の祝日・休日月日':'hdate'})\n",
    "last50holidays['datet'] = last50holidays['hdate'].apply(lambda x: datetime.datetime.strptime(x,'%Y/%m/%d'))\n"
   ]
  },
  {
   "cell_type": "code",
   "execution_count": 6,
   "metadata": {
    "scrolled": false
   },
   "outputs": [
    {
     "data": {
      "text/plain": [
       "Text(0.5,1,'Day of Week rank 180 as of 2020-12-17 20:45:46.839258')"
      ]
     },
     "execution_count": 6,
     "metadata": {},
     "output_type": "execute_result"
    },
    {
     "data": {
      "image/png": "[encoded data removed]",
      "text/plain": [
       "<matplotlib.figure.Figure at 0x7fe460d6e4e0>"
      ]
     },
     "metadata": {},
     "output_type": "display_data"
    }
   ],
   "source": [
    "df2 = pd.merge(df, last50holidays, on='datet', how='left')\n",
    "df2.loc[df2['hdate'].isnull() != True, 'dow'] = 'Holiday'\n",
    "df2_sorted = df2[['dow','Tokyo']].groupby('dow').median().sort_values(by='Tokyo', ascending=False)\n",
    "\n",
    "#df2 = df2[df2_sorted.index]\n",
    "#df2[['dow','Tokyo']].tail(180).groupby(by='dow').boxplot(figsize=(8,10), subplots=False, fontsize=8, rot=45)\n",
    "days = 180\n",
    "\n",
    "def boxplot_sorted(df, by, column):\n",
    "  df3 = pd.DataFrame({col:vals[column] for col, vals in df.groupby(by)})\n",
    "  meds = df3.median().sort_values(ascending=False)\n",
    "  df3[meds.index].boxplot(rot=45, figsize=(8,6))\n",
    "\n",
    "import datetime\n",
    "boxplot_sorted(df2.tail(days), by=[\"dow\"], column=\"Tokyo\")\n",
    "plt.title(f\"Day of Week rank for last {days} as of {datetime.datetime.now()}\")\n"
   ]
  },
  {
   "cell_type": "code",
   "execution_count": null,
   "metadata": {},
   "outputs": [],
   "source": []
  }
 ],
 "metadata": {
  "kernelspec": {
   "display_name": "Python 3",
   "language": "python",
   "name": "python3"
  },
  "language_info": {
   "codemirror_mode": {
    "name": "ipython",
    "version": 3
   },
   "file_extension": ".py",
   "mimetype": "text/x-python",
   "name": "python",
   "nbconvert_exporter": "python",
   "pygments_lexer": "ipython3",
   "version": "3.6.4"
  }
 },
 "nbformat": 4,
 "nbformat_minor": 4
}
